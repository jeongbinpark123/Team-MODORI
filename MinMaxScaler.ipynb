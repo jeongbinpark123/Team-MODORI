{
  "nbformat": 4,
  "nbformat_minor": 0,
  "metadata": {
    "colab": {
      "provenance": []
    },
    "kernelspec": {
      "name": "python3",
      "display_name": "Python 3"
    },
    "language_info": {
      "name": "python"
    }
  },
  "cells": [
    {
      "cell_type": "code",
      "execution_count": null,
      "metadata": {
        "colab": {
          "base_uri": "https://localhost:8080/"
        },
        "id": "Oa8V0_b_WW83",
        "outputId": "73c6ab2f-dc1b-4824-83a7-a8e4cb0780a1"
      },
      "outputs": [
        {
          "output_type": "stream",
          "name": "stdout",
          "text": [
            "       수요 지수    인프라 지수    접근성 지수     환경 지수\n",
            "0   0.422066  0.440388  0.494006  0.119261\n",
            "1   0.364490  0.490974  1.000000  0.140925\n",
            "2   0.372863  0.437871  0.177135  0.155108\n",
            "3   0.867749  0.438584  0.250505  0.115218\n",
            "4   0.718229  0.673933  0.018870  0.105189\n",
            "5   0.283894  1.000000  0.285916  0.437263\n",
            "6   1.000000  0.106473  0.000000  0.000000\n",
            "7   0.272347  0.742899  0.649680  0.584344\n",
            "8   0.213499  0.000000  0.245974  0.200486\n",
            "9   0.441547  0.705414  0.711151  0.210284\n",
            "10  0.122081  0.649942  0.868704  0.916040\n",
            "11  0.594326  0.533933  0.647119  0.485764\n",
            "12  0.421251  0.646718  0.812044  0.349124\n",
            "13  0.000000  0.842407  0.749390  1.000000\n",
            "14  0.832489  0.497180  0.096346  0.219155\n",
            "15  0.019781  0.188101  0.050875  0.671855\n"
          ]
        }
      ],
      "source": [
        "from sklearn.preprocessing import MinMaxScaler\n",
        "import pandas as pd\n",
        "\n",
        "\n",
        "data = pd.read_excel('북구 MCLP 데이터프레임.xlsx')\n",
        "\n",
        "\n",
        "# MinMaxScaler 객체 생성\n",
        "min_max_scaler = MinMaxScaler()\n",
        "\n",
        "# 정의한 열들에 대해 스케일링 적용\n",
        "columns_to_scale = ['수요 지수', '인프라 지수', '접근성 지수', '환경 지수']\n",
        "min_max_scaled = min_max_scaler.fit_transform(data[columns_to_scale])\n",
        "\n",
        "# 스케일된 데이터를 새로운 DataFrame으로 변환\n",
        "min_max_scaled_df = pd.DataFrame(min_max_scaled, columns=columns_to_scale)\n",
        "\n",
        "# 결과 출력\n",
        "print(min_max_scaled_df)\n",
        "min_max_scaled_df['위도'] = data['위도']\n",
        "min_max_scaled_df['경도'] = data['경도']\n",
        "min_max_scaled_df['행정구역'] = data['행정구역']\n",
        "min_max_scaled_df.to_excel('min_max_scaled_북구.xlsx', index=False)\n"
      ]
    },
    {
      "cell_type": "code",
      "source": [],
      "metadata": {
        "id": "Tna1Y9tMWkNI"
      },
      "execution_count": null,
      "outputs": []
    }
  ]
}