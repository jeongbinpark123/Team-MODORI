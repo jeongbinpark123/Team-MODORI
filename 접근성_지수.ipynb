{
  "nbformat": 4,
  "nbformat_minor": 0,
  "metadata": {
    "colab": {
      "provenance": []
    },
    "kernelspec": {
      "name": "python3",
      "display_name": "Python 3"
    },
    "language_info": {
      "name": "python"
    }
  },
  "cells": [
    {
      "cell_type": "code",
      "execution_count": 3,
      "metadata": {
        "colab": {
          "base_uri": "https://localhost:8080/"
        },
        "id": "WzkWXt7OPTO-",
        "outputId": "723e49e2-9224-4b28-ffa5-c5a8a53813bb"
      },
      "outputs": [
        {
          "output_type": "stream",
          "name": "stdout",
          "text": [
            "   행정구역      접근성지수\n",
            "0   성당동  38.631993\n",
            "1   두류동  20.238537\n",
            "2   본리동  50.875622\n",
            "3   감삼동  26.934714\n",
            "4   죽전동   8.775946\n",
            "5   장기동  44.965518\n",
            "6   용산동  31.023069\n",
            "7   이곡동  45.080247\n",
            "8   신당동  37.560027\n",
            "9   월성동  44.749713\n",
            "10  진천동  26.937595\n",
            "11  유천동  48.401244\n",
            "12  상인동  47.083354\n",
            "13  도원동  52.350001\n",
            "14  송현동  29.023781\n",
            "15   본동  37.040568\n"
          ]
        }
      ],
      "source": [
        "import pandas as pd\n",
        "from math import radians, cos, sin, sqrt, atan2\n",
        "\n",
        "# 거리 계산 함수 (Haversine 공식)\n",
        "def haversine(lat1, lon1, lat2, lon2):\n",
        "    R = 6371.0 # 지구의 반지름 (km)\n",
        "    dlat = radians(lat2 - lat1)\n",
        "    dlon = radians(lon2 - lon1)\n",
        "    a = sin(dlat/2)**2 + cos(radians(lat1)) * cos(radians(lat2)) * sin(dlon/2)**2\n",
        "    c = 2 * atan2(sqrt(a), sqrt(1 - a))\n",
        "    distance = R * c\n",
        "    return distance\n",
        "\n",
        "# 데이터 불러오기\n",
        "df_districts = pd.read_excel('달서구 행정구역 중심좌표.xlsx')\n",
        "transport_coords = pd.read_excel('달서구 접근성 좌표.xlsx')\n",
        "\n",
        "# 위도와 경도를 float 형식으로 변환\n",
        "df_districts['위도'] = df_districts['위도'].astype(float)\n",
        "df_districts['경도'] = df_districts['경도'].astype(float)\n",
        "transport_coords['위도'] = transport_coords['위도'].astype(float)\n",
        "transport_coords['경도'] = transport_coords['경도'].astype(float)\n",
        "\n",
        "# 접근성 점수 계산 함수\n",
        "def calculate_accessibility_score(lat, lon, transport_coords, radius=0.5):\n",
        "    scores = []\n",
        "    for _, row in transport_coords.iterrows():\n",
        "        lat_t = row['위도']\n",
        "        lon_t = row['경도']\n",
        "        dist = haversine(lat, lon, lat_t, lon_t)\n",
        "        if dist <= radius:\n",
        "            score = 1 / (dist + 0.1)\n",
        "            scores.append(score)\n",
        "    return sum(scores)\n",
        "\n",
        "# 각 행정구역에 대해 접근성 지수 계산\n",
        "df_districts['접근성지수'] = df_districts.apply(\n",
        "    lambda row: calculate_accessibility_score(row['위도'], row['경도'], transport_coords),\n",
        "    axis=1\n",
        ")\n",
        "\n",
        "print(df_districts[['행정구역', '접근성지수']])\n"
      ]
    },
    {
      "cell_type": "code",
      "source": [
        "df_districts.to_excel('달서구 행정구역 접근성지수.xlsx', index=False)"
      ],
      "metadata": {
        "id": "_HpUTvcuP31w"
      },
      "execution_count": 4,
      "outputs": []
    },
    {
      "cell_type": "code",
      "source": [],
      "metadata": {
        "id": "H3LPi9yaRDdM"
      },
      "execution_count": null,
      "outputs": []
    }
  ]
}