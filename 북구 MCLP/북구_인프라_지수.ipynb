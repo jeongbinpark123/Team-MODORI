{
  "nbformat": 4,
  "nbformat_minor": 0,
  "metadata": {
    "colab": {
      "provenance": []
    },
    "kernelspec": {
      "name": "python3",
      "display_name": "Python 3"
    },
    "language_info": {
      "name": "python"
    }
  },
  "cells": [
    {
      "cell_type": "code",
      "execution_count": null,
      "metadata": {
        "colab": {
          "base_uri": "https://localhost:8080/"
        },
        "id": "0SSt95XzVasj",
        "outputId": "9b5dfc08-c3ea-48db-eabb-63e9357b96c8"
      },
      "outputs": [
        {
          "output_type": "stream",
          "name": "stdout",
          "text": [
            "     행정구역       인프라점수\n",
            "0     고성동   58.258214\n",
            "1     칠성동   74.577400\n",
            "2     침산동   71.729141\n",
            "3     산격동  129.833448\n",
            "4     대현동   73.909985\n",
            "5     복현동  151.878795\n",
            "6     검단동    1.603301\n",
            "7   무태조야동   63.464691\n",
            "8     관문동    3.952699\n",
            "9     태전동   72.613523\n",
            "10    구암동   15.571942\n",
            "11    관음동   15.325497\n",
            "12    읍내동    0.000000\n",
            "13    동천동  192.926778\n",
            "14    노원동   65.517768\n",
            "15    국우동    6.612075\n"
          ]
        }
      ],
      "source": [
        "import numpy as np\n",
        "import pandas as pd\n",
        "from math import radians, cos, sin, sqrt, atan2\n",
        "\n",
        "# 거리 계산 함수 (Haversine 공식)\n",
        "def haversine(lat1, lon1, lat2, lon2):\n",
        "    R = 6371.0\n",
        "    dlat = radians(lat2 - lat1)\n",
        "    dlon = radians(lon2 - lon1)\n",
        "    a = sin(dlat/2) * sin(dlat/2) + cos(radians(lat1)) * cos(radians(lat2)) * sin(dlon/2) * sin(dlon/2)\n",
        "    c = 2 * atan2(sqrt(a), sqrt(1 - a))\n",
        "    distance = R * c\n",
        "    return distance\n",
        "df_districts = pd.read_excel('북구 행정동 중심좌표.xlsx')\n",
        "df_hospitals = pd.read_csv('대구광역시 북구_병의원_20240731.csv',encoding='cp949')\n",
        "df_hospitals['위도'] = df_hospitals['위도'].astype(str)\n",
        "df_hospitals['경도'] = df_hospitals['경도'].astype(str)\n",
        "\n",
        "# Extract numeric values and convert to float\n",
        "df_hospitals['위도'] = df_hospitals['위도'].str.extract(r'([-+]?\\d*\\.\\d+|\\d+)').astype(float)\n",
        "df_hospitals['경도'] = df_hospitals['경도'].str.extract(r'([-+]?\\d*\\.\\d+|\\d+)').astype(float)\n",
        "def calculate_infrastructure_score(lat, lon, hospitals, radius=1.0):\n",
        "    scores = []\n",
        "    for _, row in hospitals.iterrows():\n",
        "        dist = haversine(lat, lon, row['위도'], row['경도'])\n",
        "        if dist <= radius:\n",
        "            score = 1 / (dist + 0.1)  # 역수 방식의 점수, 0으로 값이 나오는 것을 방지하기 위해 0.1 추가\n",
        "            scores.append(score)\n",
        "    return sum(scores)  # 또는 np.mean(scores)로 평균 점수\n",
        "\n",
        "# 각 행정동에 대해 인프라 점수 계산\n",
        "df_districts['인프라점수'] = df_districts.apply(\n",
        "    lambda row: calculate_infrastructure_score(row['위도'], row['경도'], df_hospitals),\n",
        "    axis=1\n",
        ")\n",
        "\n",
        "print(df_districts[['행정구역', '인프라점수']])"
      ]
    },
    {
      "cell_type": "code",
      "source": [
        "df_districts.to_excel('북구 행정구역 인프라 점수.xlsx', index=False)"
      ],
      "metadata": {
        "id": "_hsXJ6hRV0O7"
      },
      "execution_count": null,
      "outputs": []
    },
    {
      "cell_type": "code",
      "source": [],
      "metadata": {
        "id": "cS7frIHRi1vn"
      },
      "execution_count": null,
      "outputs": []
    }
  ]
}