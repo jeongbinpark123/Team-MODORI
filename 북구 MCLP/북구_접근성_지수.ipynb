{
  "nbformat": 4,
  "nbformat_minor": 0,
  "metadata": {
    "colab": {
      "provenance": []
    },
    "kernelspec": {
      "name": "python3",
      "display_name": "Python 3"
    },
    "language_info": {
      "name": "python"
    }
  },
  "cells": [
    {
      "cell_type": "code",
      "execution_count": null,
      "metadata": {
        "colab": {
          "base_uri": "https://localhost:8080/"
        },
        "id": "WzkWXt7OPTO-",
        "outputId": "0ae2ff6d-ccf7-47cf-a507-e35fb5ec8007"
      },
      "outputs": [
        {
          "output_type": "stream",
          "name": "stdout",
          "text": [
            "     행정구역      접근성지수\n",
            "0     고성동  39.716178\n",
            "1     칠성동  57.312698\n",
            "2     침산동  27.364019\n",
            "3     산격동  35.996280\n",
            "4     대현동  16.450682\n",
            "5     복현동  26.774431\n",
            "6     검단동  21.046215\n",
            "7   무태조야동  44.089187\n",
            "8     관문동  31.618313\n",
            "9     태전동  47.900047\n",
            "10    구암동  10.767114\n",
            "11    관음동  16.260187\n",
            "12    읍내동   0.000000\n",
            "13    동천동  37.812738\n",
            "14    노원동  24.112044\n",
            "15    국우동   3.673619\n"
          ]
        }
      ],
      "source": [
        "import pandas as pd\n",
        "from math import radians, cos, sin, sqrt, atan2\n",
        "\n",
        "# 거리 계산 함수 (Haversine 공식)\n",
        "def haversine(lat1, lon1, lat2, lon2):\n",
        "    R = 6371.0 # 지구의 반지름 (km)\n",
        "    dlat = radians(lat2 - lat1)\n",
        "    dlon = radians(lon2 - lon1)\n",
        "    a = sin(dlat/2)**2 + cos(radians(lat1)) * cos(radians(lat2)) * sin(dlon/2)**2\n",
        "    c = 2 * atan2(sqrt(a), sqrt(1 - a))\n",
        "    distance = R * c\n",
        "    return distance\n",
        "\n",
        "# 데이터 불러오기\n",
        "df_districts = pd.read_excel('북구 행정동 중심좌표.xlsx')\n",
        "transport_coords = pd.read_excel('북구 버스정류장+지하철역 위치.xlsx')\n",
        "\n",
        "# 위도와 경도를 float 형식으로 변환\n",
        "df_districts['위도'] = df_districts['위도'].astype(float)\n",
        "df_districts['경도'] = df_districts['경도'].astype(float)\n",
        "transport_coords['위도'] = transport_coords['위도'].astype(float)\n",
        "transport_coords['경도'] = transport_coords['경도'].astype(float)\n",
        "\n",
        "# 접근성 점수 계산 함수\n",
        "def calculate_accessibility_score(lat, lon, transport_coords, radius=0.5):\n",
        "    scores = []\n",
        "    for _, row in transport_coords.iterrows():\n",
        "        lat_t = row['위도']\n",
        "        lon_t = row['경도']\n",
        "        dist = haversine(lat, lon, lat_t, lon_t)\n",
        "        if dist <= radius:\n",
        "            score = 1 / (dist + 0.1)\n",
        "            scores.append(score)\n",
        "    return sum(scores)\n",
        "\n",
        "# 각 행정구역에 대해 접근성 지수 계산\n",
        "df_districts['접근성지수'] = df_districts.apply(\n",
        "    lambda row: calculate_accessibility_score(row['위도'], row['경도'], transport_coords),\n",
        "    axis=1\n",
        ")\n",
        "\n",
        "print(df_districts[['행정구역', '접근성지수']])\n"
      ]
    },
    {
      "cell_type": "code",
      "source": [
        "df_districts.to_excel('북구 행정구역 접근성지수.xlsx', index=False)"
      ],
      "metadata": {
        "id": "_HpUTvcuP31w"
      },
      "execution_count": null,
      "outputs": []
    },
    {
      "cell_type": "code",
      "source": [],
      "metadata": {
        "id": "H3LPi9yaRDdM"
      },
      "execution_count": null,
      "outputs": []
    }
  ]
}