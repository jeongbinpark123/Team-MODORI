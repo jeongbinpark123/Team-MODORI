{
  "nbformat": 4,
  "nbformat_minor": 0,
  "metadata": {
    "colab": {
      "provenance": []
    },
    "kernelspec": {
      "name": "python3",
      "display_name": "Python 3"
    },
    "language_info": {
      "name": "python"
    }
  },
  "cells": [
    {
      "cell_type": "code",
      "execution_count": null,
      "metadata": {
        "colab": {
          "base_uri": "https://localhost:8080/"
        },
        "id": "PwFy5wgKMmA6",
        "outputId": "253ebe0c-d1b9-4f48-988a-04fb08f51569"
      },
      "outputs": [
        {
          "output_type": "stream",
          "name": "stdout",
          "text": [
            "     행정구역       환경지수\n",
            "0     고성동   2.238973\n",
            "1     칠성동   1.461774\n",
            "2     침산동   1.456699\n",
            "3     산격동   1.478989\n",
            "4     대현동   3.358269\n",
            "5     복현동  12.598414\n",
            "6     검단동   0.000000\n",
            "7   무태조야동  17.133771\n",
            "8     관문동   1.576662\n",
            "9     태전동   1.982818\n",
            "10    구암동  11.076343\n",
            "11    관음동   1.972781\n",
            "12    읍내동   0.000000\n",
            "13    동천동  20.291846\n",
            "14    노원동   5.545844\n",
            "15    국우동   0.000000\n"
          ]
        }
      ],
      "source": [
        "import pandas as pd\n",
        "from math import radians, cos, sin, sqrt, atan2\n",
        "\n",
        "# 거리 계산 함수 (Haversine 공식)\n",
        "def haversine(lat1, lon1, lat2, lon2):\n",
        "    R = 6371.0  # 지구의 반지름 (km)\n",
        "    dlat = radians(lat2 - lat1)\n",
        "    dlon = radians(lon2 - lon1)\n",
        "    a = sin(dlat/2)**2 + cos(radians(lat1)) * cos(radians(lat2)) * sin(dlon/2)**2\n",
        "    c = 2 * atan2(sqrt(a), sqrt(1 - a))\n",
        "    distance = R * c\n",
        "    return distance\n",
        "\n",
        "df_districts = pd.read_excel('북구 행정동 중심좌표.xlsx')\n",
        "df_parks = pd.read_excel('북구 공원 데이터.xlsx')\n",
        "def calculate_environmental_score(lat, lon, parks, radius=0.6):\n",
        "    scores = []\n",
        "    for _, row in parks.iterrows():\n",
        "        dist = haversine(lat, lon, row['위도'], row['경도'])\n",
        "        if dist <= radius:\n",
        "            score = 1 / (dist + 0.1)  # 역수 방식으로 점수 부여\n",
        "            scores.append(score)\n",
        "    return sum(scores)\n",
        "\n",
        "# 각 행정구역에 대해 환경 지수 계산\n",
        "df_districts['환경지수'] = df_districts.apply(\n",
        "    lambda row: calculate_environmental_score(row['위도'], row['경도'], df_parks),\n",
        "    axis=1\n",
        ")\n",
        "\n",
        "print(df_districts[['행정구역', '환경지수']])"
      ]
    },
    {
      "cell_type": "code",
      "source": [
        "df_districts.to_excel('북구 행정구역 환경지수.xlsx', index=False)"
      ],
      "metadata": {
        "id": "bUX-KoHUM866"
      },
      "execution_count": null,
      "outputs": []
    },
    {
      "cell_type": "code",
      "source": [],
      "metadata": {
        "id": "VicLLMjwNHXi"
      },
      "execution_count": null,
      "outputs": []
    }
  ]
}