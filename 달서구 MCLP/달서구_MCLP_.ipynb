{
  "nbformat": 4,
  "nbformat_minor": 0,
  "metadata": {
    "colab": {
      "provenance": []
    },
    "kernelspec": {
      "name": "python3",
      "display_name": "Python 3"
    },
    "language_info": {
      "name": "python"
    }
  },
  "cells": [
    {
      "cell_type": "code",
      "source": [
        "!pip install pulp"
      ],
      "metadata": {
        "colab": {
          "base_uri": "https://localhost:8080/"
        },
        "id": "raChTElGScpM",
        "outputId": "7fd58b77-6836-4bfe-89b6-f5c83b012037"
      },
      "execution_count": 14,
      "outputs": [
        {
          "output_type": "stream",
          "name": "stdout",
          "text": [
            "Requirement already satisfied: pulp in /usr/local/lib/python3.10/dist-packages (2.9.0)\n"
          ]
        }
      ]
    },
    {
      "cell_type": "code",
      "source": [
        "import pandas as pd\n",
        "from pulp import LpMaximize, LpProblem, LpVariable, lpSum\n",
        "from math import radians, cos, sin, sqrt, atan2\n",
        "\n",
        "# 거리 계산 함수 (Haversine 공식)\n",
        "def haversine(lat1, lon1, lat2, lon2):\n",
        "    R = 6371.0 # 지구의 반지름 (km)\n",
        "    dlat = radians(lat2 - lat1)\n",
        "    dlon = radians(lon2 - lon1)\n",
        "    a = sin(dlat/2)**2 + cos(radians(lat1)) * cos(radians(lat2)) * sin(dlon/2)**2\n",
        "    c = 2 * atan2(sqrt(a), sqrt(1 - a))\n",
        "    distance = R * c\n",
        "    return distance\n",
        "\n",
        "\n",
        "# 데이터 읽기\n",
        "df = pd.read_excel('min_max_scaled_df.xlsx')\n",
        "\n",
        "# 예제 데이터 (위 코드와 연결하여 수정해야 하는 부분)\n",
        "# df는 '행정구역', '위도', '경도', '수요지수', '인프라지수', '접근성지수', '환경지수', '커버링 반경' 등의 열을 갖는다고 가정\n",
        "\n",
        "# 커버링 반경 설정\n",
        "cover_radius = 1.0  # 단위: km\n",
        "\n",
        "# MCLP 설정\n",
        "def solve_mclp(df):\n",
        "    num_facilities = len(df)\n",
        "    num_to_select = 5  # 5개의 그룹홈을 선택한다고 가정\n",
        "\n",
        "    # 문제 설정\n",
        "    model = LpProblem(name=\"MCLP\", sense=LpMaximize)\n",
        "\n",
        "    # 결정 변수\n",
        "    x = [LpVariable(f'x_{i}', cat='Binary') for i in range(num_facilities)]\n",
        "\n",
        "    # 목표 함수: 최대 수요 커버리지\n",
        "    model += lpSum(df.loc[i, '수요 지수'] * x[i] for i in range(num_facilities))\n",
        "\n",
        "    # 각 커버링 반경을 찾습니다\n",
        "    for i in range(num_facilities):\n",
        "        coverage_indices = []\n",
        "        for j in range(num_facilities):\n",
        "            # 모든 j에 대해서, i에서 j로의 거리를 계산\n",
        "            distance = haversine(df.loc[i, '위도'], df.loc[i, '경도'], df.loc[j, '위도'], df.loc[j, '경도'])\n",
        "            if distance <= cover_radius:\n",
        "                coverage_indices.append(j)\n",
        "        # 커버링 조건 추가\n",
        "        model += lpSum(x[j] for j in coverage_indices) >= x[i]\n",
        "\n",
        "    # 선택 제한\n",
        "    model += lpSum(x[i] for i in range(num_facilities)) == num_to_select\n",
        "\n",
        "    # 문제 해결\n",
        "    model.solve()\n",
        "\n",
        "    # 선택된 인덱스 출력\n",
        "    selected_indices = [i for i in range(num_facilities) if x[i].value() == 1]\n",
        "\n",
        "    return selected_indices\n",
        "\n",
        "# MCLP 문제 풀기\n",
        "optimal_locations = solve_mclp(df)\n",
        "\n",
        "# 최적 위치 출력\n",
        "print(\"선택된 그룹홈 위치:\")\n",
        "for idx in optimal_locations:\n",
        "    print(df.loc[idx, ['행정구역', '위도', '경도']])\n",
        "\n",
        "optimal_df = df.loc[optimal_locations, ['행정구역', '위도', '경도']]\n",
        "\n",
        "# 결과를 Excel 파일로 저장\n",
        "output_file_path = '달서구 MCLP.xlsx'\n",
        "optimal_df.to_excel(output_file_path, index=False)\n",
        "\n"
      ],
      "metadata": {
        "colab": {
          "base_uri": "https://localhost:8080/"
        },
        "id": "RXAnh1ePSbUM",
        "outputId": "6e2ac354-2e48-42ee-bdd3-ffca875de743"
      },
      "execution_count": 18,
      "outputs": [
        {
          "output_type": "stream",
          "name": "stdout",
          "text": [
            "선택된 그룹홈 위치:\n",
            "행정구역           용산동\n",
            "위도       35.856591\n",
            "경도      128.531147\n",
            "Name: 6, dtype: object\n",
            "행정구역           월성동\n",
            "위도       35.819585\n",
            "경도      128.522523\n",
            "Name: 9, dtype: object\n",
            "행정구역           진천동\n",
            "위도        35.81273\n",
            "경도      128.525665\n",
            "Name: 10, dtype: object\n",
            "행정구역           상인동\n",
            "위도        35.81391\n",
            "경도      128.539966\n",
            "Name: 12, dtype: object\n",
            "행정구역           송현동\n",
            "위도       35.829043\n",
            "경도      128.551403\n",
            "Name: 14, dtype: object\n"
          ]
        }
      ]
    },
    {
      "cell_type": "code",
      "source": [],
      "metadata": {
        "id": "Sxf7HmElVLnd"
      },
      "execution_count": null,
      "outputs": []
    }
  ]
}