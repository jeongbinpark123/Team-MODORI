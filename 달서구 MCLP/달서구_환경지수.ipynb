{
  "nbformat": 4,
  "nbformat_minor": 0,
  "metadata": {
    "colab": {
      "provenance": []
    },
    "kernelspec": {
      "name": "python3",
      "display_name": "Python 3"
    },
    "language_info": {
      "name": "python"
    }
  },
  "cells": [
    {
      "cell_type": "code",
      "execution_count": 4,
      "metadata": {
        "colab": {
          "base_uri": "https://localhost:8080/"
        },
        "id": "PwFy5wgKMmA6",
        "outputId": "bc767b18-062d-4091-e223-ad42d76a4f18"
      },
      "outputs": [
        {
          "output_type": "stream",
          "name": "stdout",
          "text": [
            "   행정구역       환경지수\n",
            "0   성당동   0.000000\n",
            "1   두류동   7.255701\n",
            "2   본리동   4.479071\n",
            "3   감삼동   8.897812\n",
            "4   죽전동  14.199179\n",
            "5   장기동   3.662740\n",
            "6   용산동  13.220445\n",
            "7   이곡동   1.740143\n",
            "8   신당동   9.613584\n",
            "9   월성동   0.000000\n",
            "10  진천동   7.770954\n",
            "11  유천동   5.385680\n",
            "12  상인동  12.582609\n",
            "13  도원동   3.137374\n",
            "14  송현동   6.797864\n",
            "15   본동   4.783184\n"
          ]
        }
      ],
      "source": [
        "import pandas as pd\n",
        "from math import radians, cos, sin, sqrt, atan2\n",
        "\n",
        "# 거리 계산 함수 (Haversine 공식)\n",
        "def haversine(lat1, lon1, lat2, lon2):\n",
        "    R = 6371.0  # 지구의 반지름 (km)\n",
        "    dlat = radians(lat2 - lat1)\n",
        "    dlon = radians(lon2 - lon1)\n",
        "    a = sin(dlat/2)**2 + cos(radians(lat1)) * cos(radians(lat2)) * sin(dlon/2)**2\n",
        "    c = 2 * atan2(sqrt(a), sqrt(1 - a))\n",
        "    distance = R * c\n",
        "    return distance\n",
        "\n",
        "df_districts = pd.read_excel('달서구 행정구역 중심좌표.xlsx')\n",
        "df_parks = pd.read_excel('달서구 공원 좌표.xlsx')\n",
        "def calculate_environmental_score(lat, lon, parks, radius=0.5):\n",
        "    scores = []\n",
        "    for _, row in parks.iterrows():\n",
        "        dist = haversine(lat, lon, row['위도'], row['경도'])\n",
        "        if dist <= radius:\n",
        "            score = 1 / (dist + 0.1)  # 역수 방식으로 점수 부여\n",
        "            scores.append(score)\n",
        "    return sum(scores)\n",
        "\n",
        "# 각 행정구역에 대해 환경 지수 계산\n",
        "df_districts['환경지수'] = df_districts.apply(\n",
        "    lambda row: calculate_environmental_score(row['위도'], row['경도'], df_parks),\n",
        "    axis=1\n",
        ")\n",
        "\n",
        "print(df_districts[['행정구역', '환경지수']])"
      ]
    },
    {
      "cell_type": "code",
      "source": [
        "df_districts.to_excel('달서구 행정구역 환경지수.xlsx', index=False)"
      ],
      "metadata": {
        "id": "bUX-KoHUM866"
      },
      "execution_count": 2,
      "outputs": []
    },
    {
      "cell_type": "code",
      "source": [],
      "metadata": {
        "id": "VicLLMjwNHXi"
      },
      "execution_count": null,
      "outputs": []
    }
  ]
}