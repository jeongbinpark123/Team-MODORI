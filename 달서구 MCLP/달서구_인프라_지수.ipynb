{
  "nbformat": 4,
  "nbformat_minor": 0,
  "metadata": {
    "colab": {
      "provenance": []
    },
    "kernelspec": {
      "name": "python3",
      "display_name": "Python 3"
    },
    "language_info": {
      "name": "python"
    }
  },
  "cells": [
    {
      "cell_type": "code",
      "execution_count": 10,
      "metadata": {
        "colab": {
          "base_uri": "https://localhost:8080/"
        },
        "id": "0SSt95XzVasj",
        "outputId": "3c8f8ce6-06a0-4123-bdf7-7ef10df96e8a"
      },
      "outputs": [
        {
          "output_type": "stream",
          "name": "stdout",
          "text": [
            "   행정구역       인프라점수\n",
            "0   성당동    0.000000\n",
            "1   두류동   90.839871\n",
            "2   본리동   29.569394\n",
            "3   감삼동  107.023547\n",
            "4   죽전동   61.620683\n",
            "5   장기동   13.757485\n",
            "6   용산동   85.428625\n",
            "7   이곡동   86.488309\n",
            "8   신당동    9.231426\n",
            "9   월성동   57.444971\n",
            "10  진천동  164.957285\n",
            "11  유천동   30.813871\n",
            "12  상인동   61.973336\n",
            "13  도원동    3.431355\n",
            "14  송현동   90.147138\n",
            "15   본동   24.183295\n"
          ]
        }
      ],
      "source": [
        "import numpy as np\n",
        "import pandas as pd\n",
        "from math import radians, cos, sin, sqrt, atan2\n",
        "\n",
        "# 거리 계산 함수 (Haversine 공식)\n",
        "def haversine(lat1, lon1, lat2, lon2):\n",
        "    R = 6371.0\n",
        "    dlat = radians(lat2 - lat1)\n",
        "    dlon = radians(lon2 - lon1)\n",
        "    a = sin(dlat/2) * sin(dlat/2) + cos(radians(lat1)) * cos(radians(lat2)) * sin(dlon/2) * sin(dlon/2)\n",
        "    c = 2 * atan2(sqrt(a), sqrt(1 - a))\n",
        "    distance = R * c\n",
        "    return distance\n",
        "df_districts = pd.read_excel('달서구 행정구역 중심좌표.xlsx')\n",
        "df_hospitals = pd.read_csv('대구광역시 달서구_의료기관 현황_20240520.csv',encoding='cp949')\n",
        "df_hospitals['위도'] = df_hospitals['위도'].astype(str)\n",
        "df_hospitals['경도'] = df_hospitals['경도'].astype(str)\n",
        "\n",
        "# Extract numeric values and convert to float\n",
        "df_hospitals['위도'] = df_hospitals['위도'].str.extract(r'([-+]?\\d*\\.\\d+|\\d+)').astype(float)\n",
        "df_hospitals['경도'] = df_hospitals['경도'].str.extract(r'([-+]?\\d*\\.\\d+|\\d+)').astype(float)\n",
        "def calculate_infrastructure_score(lat, lon, hospitals, radius=0.5):\n",
        "    scores = []\n",
        "    for _, row in hospitals.iterrows():\n",
        "        dist = haversine(lat, lon, row['위도'], row['경도'])\n",
        "        if dist <= radius:\n",
        "            score = 1 / (dist + 0.1)  # 역수 방식의 점수, 0으로 값이 나오는 것을 방지하기 위해 0.1 추가\n",
        "            scores.append(score)\n",
        "    return sum(scores)  # 또는 np.mean(scores)로 평균 점수\n",
        "\n",
        "# 각 행정동에 대해 인프라 점수 계산\n",
        "df_districts['인프라점수'] = df_districts.apply(\n",
        "    lambda row: calculate_infrastructure_score(row['위도'], row['경도'], df_hospitals),\n",
        "    axis=1\n",
        ")\n",
        "\n",
        "print(df_districts[['행정구역', '인프라점수']])"
      ]
    },
    {
      "cell_type": "code",
      "source": [
        "df_districts.to_excel('달서구 행정구역 인프라 점수.xlsx', index=False)"
      ],
      "metadata": {
        "id": "_hsXJ6hRV0O7"
      },
      "execution_count": 11,
      "outputs": []
    },
    {
      "cell_type": "code",
      "source": [],
      "metadata": {
        "id": "cS7frIHRi1vn"
      },
      "execution_count": null,
      "outputs": []
    }
  ]
}