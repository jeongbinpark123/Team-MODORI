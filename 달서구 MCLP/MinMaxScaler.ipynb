{
  "nbformat": 4,
  "nbformat_minor": 0,
  "metadata": {
    "colab": {
      "provenance": []
    },
    "kernelspec": {
      "name": "python3",
      "display_name": "Python 3"
    },
    "language_info": {
      "name": "python"
    }
  },
  "cells": [
    {
      "cell_type": "code",
      "execution_count": null,
      "metadata": {
        "colab": {
          "base_uri": "https://localhost:8080/"
        },
        "id": "Oa8V0_b_WW83",
        "outputId": "1a267002-b56b-44ad-c556-d81721a142f7"
      },
      "outputs": [
        {
          "output_type": "stream",
          "name": "stdout",
          "text": [
            "       수요 지수    인프라 지수    접근성 지수     환경 지수\n",
            "0   0.155804  0.000000  0.148911  0.000000\n",
            "1   0.208661  0.550687  0.492788  0.510994\n",
            "2   0.029622  0.179255  1.000000  0.315446\n",
            "3   0.069787  0.648796  0.401556  0.626643\n",
            "4   0.028999  0.373555  0.279818  1.000000\n",
            "5   0.027063  0.083400  0.404884  0.257954\n",
            "6   0.292227  0.517883  0.600224  0.931071\n",
            "7   0.140943  0.524307  0.932150  0.122552\n",
            "8   0.169892  0.055963  0.587421  0.677052\n",
            "9   0.447103  0.348241  0.977404  0.000000\n",
            "10  0.346165  1.000000  0.650343  0.547282\n",
            "11  0.000000  0.186799  0.921013  0.379295\n",
            "12  1.000000  0.375693  0.674038  0.886150\n",
            "13  0.213873  0.020801  0.000000  0.220955\n",
            "14  0.609300  0.546488  0.507605  0.478751\n",
            "15  0.042516  0.146603  0.711663  0.336863\n"
          ]
        }
      ],
      "source": [
        "from sklearn.preprocessing import MinMaxScaler\n",
        "import pandas as pd\n",
        "\n",
        "# 예제를 위한 가상의 데이터프레임 생성 (이미 데이터가 있다면 data 변수에 대입)\n",
        "data = pd.read_excel('달서구 MCLP 데이터프레임.xlsx')\n",
        "\n",
        "\n",
        "# MinMaxScaler 객체 생성\n",
        "min_max_scaler = MinMaxScaler()\n",
        "\n",
        "# 정의한 열들에 대해 스케일링 적용\n",
        "columns_to_scale = ['수요 지수', '인프라 지수', '접근성 지수', '환경 지수']\n",
        "min_max_scaled = min_max_scaler.fit_transform(data[columns_to_scale])\n",
        "\n",
        "# 스케일된 데이터를 새로운 DataFrame으로 변환\n",
        "min_max_scaled_df = pd.DataFrame(min_max_scaled, columns=columns_to_scale)\n",
        "\n",
        "# 결과 출력\n",
        "print(min_max_scaled_df)\n",
        "min_max_scaled_df['위도'] = data['위도']\n",
        "min_max_scaled_df['경도'] = data['경도']\n",
        "min_max_scaled_df['행정구역'] = data['행정구역']\n",
        "min_max_scaled_df.to_excel('min_max_scaled_df.xlsx', index=False)\n"
      ]
    },
    {
      "cell_type": "code",
      "source": [],
      "metadata": {
        "id": "Tna1Y9tMWkNI"
      },
      "execution_count": null,
      "outputs": []
    }
  ]
}