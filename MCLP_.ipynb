{
  "cells": [
    {
      "cell_type": "code",
      "execution_count": null,
      "metadata": {
        "colab": {
          "base_uri": "https://localhost:8080/"
        },
        "id": "raChTElGScpM",
        "outputId": "f53b3bcb-6179-4c59-e2b7-ef98b2bc1e99"
      },
      "outputs": [
        {
          "output_type": "stream",
          "name": "stdout",
          "text": [
            "Collecting pulp\n",
            "  Downloading PuLP-2.9.0-py3-none-any.whl.metadata (5.4 kB)\n",
            "Downloading PuLP-2.9.0-py3-none-any.whl (17.7 MB)\n",
            "\u001b[2K   \u001b[90m━━━━━━━━━━━━━━━━━━━━━━━━━━━━━━━━━━━━━━━━\u001b[0m \u001b[32m17.7/17.7 MB\u001b[0m \u001b[31m58.9 MB/s\u001b[0m eta \u001b[36m0:00:00\u001b[0m\n",
            "\u001b[?25hInstalling collected packages: pulp\n",
            "Successfully installed pulp-2.9.0\n"
          ]
        }
      ],
      "source": [
        "!pip install pulp"
      ]
    },
    {
      "cell_type": "code",
      "execution_count": null,
      "metadata": {
        "colab": {
          "base_uri": "https://localhost:8080/"
        },
        "id": "RXAnh1ePSbUM",
        "outputId": "fcaefcfb-2928-44a1-dc3f-79db85d77c88"
      },
      "outputs": [
        {
          "output_type": "stream",
          "name": "stdout",
          "text": [
            "선택된 그룹홈 위치:\n",
            "행정구역           월성동\n",
            "위도       35.819556\n",
            "경도      128.522881\n",
            "Name: 9, dtype: object\n",
            "행정구역           상인동\n",
            "위도       35.814259\n",
            "경도      128.544958\n",
            "Name: 12, dtype: object\n",
            "행정구역           도원동\n",
            "위도       35.807454\n",
            "경도      128.532177\n",
            "Name: 13, dtype: object\n"
          ]
        }
      ],
      "source": [
        "import pandas as pd\n",
        "from pulp import LpMaximize, LpProblem, LpVariable, lpSum\n",
        "from math import radians, cos, sin, sqrt, atan2\n",
        "\n",
        "# 거리 계산 함수 (Haversine 공식)\n",
        "def haversine(lat1, lon1, lat2, lon2):\n",
        "    R = 6371.0 # 지구의 반지름 (km)\n",
        "    dlat = radians(lat2 - lat1)\n",
        "    dlon = radians(lon2 - lon1)\n",
        "    a = sin(dlat/2)**2 + cos(radians(lat1)) * cos(radians(lat2)) * sin(dlon/2)**2\n",
        "    c = 2 * atan2(sqrt(a), sqrt(1 - a))\n",
        "    distance = R * c\n",
        "    return distance\n",
        "\n",
        "# 데이터 읽기\n",
        "df = pd.read_excel('min_max_scaled_달서구.xlsx')\n",
        "\n",
        "# 커버링 반경 설정\n",
        "cover_radius = 1.0  # 단위: km\n",
        "\n",
        "# MCLP 설정\n",
        "def solve_mclp(df):\n",
        "    num_facilities = len(df)\n",
        "    num_to_select = 3  # 3개의 그룹홈을 선택한다고 가정\n",
        "\n",
        "    # 문제 설정\n",
        "    model = LpProblem(name=\"MCLP\", sense=LpMaximize)\n",
        "\n",
        "    # 결정 변수\n",
        "    x = [LpVariable(f'x_{i}', cat='Binary') for i in range(num_facilities)]\n",
        "\n",
        "    # 목표 함수: 최대 수요 커버리지 (여러 요소에 가중치 적용)\n",
        "    weights = {'수요 지수': 0.25, '인프라 지수': 0.25, '접근성 지수': 0.25, '환경 지수': 0.25}\n",
        "    model += lpSum(\n",
        "        (weights['수요 지수'] * df.loc[i, '수요 지수'] +\n",
        "         weights['인프라 지수'] * df.loc[i, '인프라 지수'] +\n",
        "         weights['접근성 지수'] * df.loc[i, '접근성 지수'] +\n",
        "         weights['환경 지수'] * df.loc[i, '환경 지수']) * x[i]\n",
        "        for i in range(num_facilities)\n",
        "    )\n",
        "\n",
        "    # 각 커버링 반경을 찾습니다\n",
        "    for i in range(num_facilities):\n",
        "        coverage_indices = []\n",
        "        for j in range(num_facilities):\n",
        "            # 모든 j에 대해서, i에서 j로의 거리를 계산\n",
        "            distance = haversine(df.loc[i, '위도'], df.loc[i, '경도'], df.loc[j, '위도'], df.loc[j, '경도'])\n",
        "            if distance <= cover_radius:\n",
        "                coverage_indices.append(j)\n",
        "        # 커버링 조건 추가\n",
        "        model += lpSum(x[j] for j in coverage_indices) >= x[i]\n",
        "\n",
        "    # 선택 제한\n",
        "    model += lpSum(x[i] for i in range(num_facilities)) == num_to_select\n",
        "\n",
        "    # 문제 해결\n",
        "    model.solve()\n",
        "\n",
        "    # 선택된 인덱스 출력\n",
        "    selected_indices = [i for i in range(num_facilities) if x[i].value() == 1]\n",
        "\n",
        "    return selected_indices\n",
        "\n",
        "# MCLP 문제 풀기\n",
        "optimal_locations = solve_mclp(df)\n",
        "\n",
        "# 최적 위치 출력\n",
        "print(\"선택된 그룹홈 위치:\")\n",
        "for idx in optimal_locations:\n",
        "    print(df.loc[idx, ['행정구역', '위도', '경도']])\n",
        "\n",
        "optimal_df = df.loc[optimal_locations, ['행정구역', '위도', '경도']]\n",
        "\n",
        "# 결과를 Excel 파일로 저장\n",
        "output_file_path = '달서구 MCLP.xlsx'\n",
        "optimal_df.to_excel(output_file_path, index=False)\n"
      ]
    },
    {
      "cell_type": "code",
      "execution_count": null,
      "metadata": {
        "id": "Sxf7HmElVLnd"
      },
      "outputs": [],
      "source": []
    }
  ],
  "metadata": {
    "colab": {
      "provenance": []
    },
    "kernelspec": {
      "display_name": "Python 3",
      "name": "python3"
    },
    "language_info": {
      "name": "python"
    }
  },
  "nbformat": 4,
  "nbformat_minor": 0
}