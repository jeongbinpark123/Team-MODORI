{
  "nbformat": 4,
  "nbformat_minor": 0,
  "metadata": {
    "colab": {
      "provenance": []
    },
    "kernelspec": {
      "name": "python3",
      "display_name": "Python 3"
    },
    "language_info": {
      "name": "python"
    }
  },
  "cells": [
    {
      "cell_type": "code",
      "source": [
        "!pip install koreanize-matplotlib"
      ],
      "metadata": {
        "colab": {
          "base_uri": "https://localhost:8080/"
        },
        "id": "V9PihfLz0-r5",
        "outputId": "5166e972-9d8e-410d-832b-49f0e04c1079"
      },
      "execution_count": null,
      "outputs": [
        {
          "output_type": "stream",
          "name": "stdout",
          "text": [
            "Collecting koreanize-matplotlib\n",
            "  Downloading koreanize_matplotlib-0.1.1-py3-none-any.whl.metadata (992 bytes)\n",
            "Requirement already satisfied: matplotlib in /usr/local/lib/python3.10/dist-packages (from koreanize-matplotlib) (3.7.1)\n",
            "Requirement already satisfied: contourpy>=1.0.1 in /usr/local/lib/python3.10/dist-packages (from matplotlib->koreanize-matplotlib) (1.2.1)\n",
            "Requirement already satisfied: cycler>=0.10 in /usr/local/lib/python3.10/dist-packages (from matplotlib->koreanize-matplotlib) (0.12.1)\n",
            "Requirement already satisfied: fonttools>=4.22.0 in /usr/local/lib/python3.10/dist-packages (from matplotlib->koreanize-matplotlib) (4.53.1)\n",
            "Requirement already satisfied: kiwisolver>=1.0.1 in /usr/local/lib/python3.10/dist-packages (from matplotlib->koreanize-matplotlib) (1.4.5)\n",
            "Requirement already satisfied: numpy>=1.20 in /usr/local/lib/python3.10/dist-packages (from matplotlib->koreanize-matplotlib) (1.26.4)\n",
            "Requirement already satisfied: packaging>=20.0 in /usr/local/lib/python3.10/dist-packages (from matplotlib->koreanize-matplotlib) (24.1)\n",
            "Requirement already satisfied: pillow>=6.2.0 in /usr/local/lib/python3.10/dist-packages (from matplotlib->koreanize-matplotlib) (9.4.0)\n",
            "Requirement already satisfied: pyparsing>=2.3.1 in /usr/local/lib/python3.10/dist-packages (from matplotlib->koreanize-matplotlib) (3.1.4)\n",
            "Requirement already satisfied: python-dateutil>=2.7 in /usr/local/lib/python3.10/dist-packages (from matplotlib->koreanize-matplotlib) (2.8.2)\n",
            "Requirement already satisfied: six>=1.5 in /usr/local/lib/python3.10/dist-packages (from python-dateutil>=2.7->matplotlib->koreanize-matplotlib) (1.16.0)\n",
            "Downloading koreanize_matplotlib-0.1.1-py3-none-any.whl (7.9 MB)\n",
            "\u001b[2K   \u001b[90m━━━━━━━━━━━━━━━━━━━━━━━━━━━━━━━━━━━━━━━━\u001b[0m \u001b[32m7.9/7.9 MB\u001b[0m \u001b[31m11.0 MB/s\u001b[0m eta \u001b[36m0:00:00\u001b[0m\n",
            "\u001b[?25hInstalling collected packages: koreanize-matplotlib\n",
            "Successfully installed koreanize-matplotlib-0.1.1\n"
          ]
        }
      ]
    },
    {
      "cell_type": "code",
      "source": [
        "import pandas as pd\n",
        "import matplotlib.pyplot as plt\n",
        "import seaborn as sns\n",
        "from sklearn.preprocessing import StandardScaler\n",
        "\n",
        "\n",
        "data2 = pd.read_excel('대구 데이터프레임(7차 수정).xlsx', engine='openpyxl')\n",
        "\n",
        "# 달성군의 고독사 수 이상치 처리\n",
        "cleaned_data = data2[data2['고독사 수'] != 4]\n",
        "\n",
        "\n",
        "numeric_cleaned_data = cleaned_data.select_dtypes(include='number')\n",
        "\n",
        "# 표준화 작업\n",
        "scaler = StandardScaler()\n",
        "standardized_data = scaler.fit_transform(numeric_cleaned_data)\n",
        "\n",
        "\n",
        "standardized_df = pd.DataFrame(standardized_data, columns=numeric_cleaned_data.columns)\n",
        "\n",
        "# 상관계수 행렬\n",
        "correlation_matrix_cleaned = standardized_df.corr()\n",
        "\n",
        "print(correlation_matrix_cleaned)"
      ],
      "metadata": {
        "colab": {
          "base_uri": "https://localhost:8080/"
        },
        "id": "0nh753KWm5w7",
        "outputId": "31be878c-d63b-46db-ae71-fe6c6bc028a6"
      },
      "execution_count": 3,
      "outputs": [
        {
          "output_type": "stream",
          "name": "stdout",
          "text": [
            "          전체 노인인구      독거노인      고독사 수      병원 수      약국 수     경로당 수  \\\n",
            "전체 노인인구   1.000000  0.979198  0.194576  0.768516  0.868024  0.951074   \n",
            "독거노인      0.979198  1.000000  0.336656  0.638680  0.784281  0.890909   \n",
            "고독사 수     0.194576  0.336656  1.000000 -0.264599 -0.104421  0.083374   \n",
            "병원 수      0.768516  0.638680 -0.264599  1.000000  0.948209  0.799526   \n",
            "약국 수      0.868024  0.784281 -0.104421  0.948209  1.000000  0.870779   \n",
            "경로당 수     0.951074  0.890909  0.083374  0.799526  0.870779  1.000000   \n",
            "공공체육시설 수  0.962166  0.905571  0.020261  0.791749  0.860885  0.975400   \n",
            "마트 수      0.419374  0.331685 -0.424674  0.562246  0.666699  0.554464   \n",
            "음식점 수     0.916051  0.858390  0.032010  0.881104  0.981251  0.917920   \n",
            "버스정류장 수   0.916887  0.904593  0.320736  0.645147  0.789841  0.953956   \n",
            "지하철 역 수   0.699207  0.570730 -0.246528  0.892900  0.840810  0.811038   \n",
            "안전지수      0.720749  0.579476 -0.457481  0.911027  0.858957  0.823534   \n",
            "공원 수      0.964701  0.925088  0.025878  0.830679  0.943299  0.936817   \n",
            "\n",
            "          공공체육시설 수      마트 수     음식점 수   버스정류장 수   지하철 역 수      안전지수      공원 수  \n",
            "전체 노인인구   0.962166  0.419374  0.916051  0.916887  0.699207  0.720749  0.964701  \n",
            "독거노인      0.905571  0.331685  0.858390  0.904593  0.570730  0.579476  0.925088  \n",
            "고독사 수     0.020261 -0.424674  0.032010  0.320736 -0.246528 -0.457481  0.025878  \n",
            "병원 수      0.791749  0.562246  0.881104  0.645147  0.892900  0.911027  0.830679  \n",
            "약국 수      0.860885  0.666699  0.981251  0.789841  0.840810  0.858957  0.943299  \n",
            "경로당 수     0.975400  0.554464  0.917920  0.953956  0.811038  0.823534  0.936817  \n",
            "공공체육시설 수  1.000000  0.551532  0.902341  0.900064  0.725476  0.807949  0.951811  \n",
            "마트 수      0.551532  1.000000  0.674661  0.513416  0.525486  0.662737  0.621997  \n",
            "음식점 수     0.902341  0.674661  1.000000  0.882107  0.793478  0.804593  0.974137  \n",
            "버스정류장 수   0.900064  0.513416  0.882107  1.000000  0.694183  0.649819  0.889773  \n",
            "지하철 역 수   0.725476  0.525486  0.793478  0.694183  1.000000  0.932805  0.739447  \n",
            "안전지수      0.807949  0.662737  0.804593  0.649819  0.932805  1.000000  0.796020  \n",
            "공원 수      0.951811  0.621997  0.974137  0.889773  0.739447  0.796020  1.000000  \n"
          ]
        }
      ]
    },
    {
      "cell_type": "code",
      "source": [
        "standardized_df.to_excel('대구광역시 표준화.xlsx')"
      ],
      "metadata": {
        "id": "68H212iZyPzO"
      },
      "execution_count": 4,
      "outputs": []
    },
    {
      "cell_type": "code",
      "source": [],
      "metadata": {
        "id": "3Lc0WdSc2hKh"
      },
      "execution_count": null,
      "outputs": []
    }
  ]
}